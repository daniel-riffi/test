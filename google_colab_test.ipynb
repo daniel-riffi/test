{
  "nbformat": 4,
  "nbformat_minor": 0,
  "metadata": {
    "colab": {
      "name": "google_colab_test.ipynb",
      "provenance": [],
      "collapsed_sections": [],
      "authorship_tag": "ABX9TyP1FlTi69nmw3HGcc/BfhO2",
      "include_colab_link": true
    },
    "kernelspec": {
      "name": "python3",
      "display_name": "Python 3"
    }
  },
  "cells": [
    {
      "cell_type": "markdown",
      "metadata": {
        "id": "view-in-github",
        "colab_type": "text"
      },
      "source": [
        "<a href=\"https://colab.research.google.com/github/daniel-riffi/test/blob/master/google_colab_test.ipynb\" target=\"_parent\"><img src=\"https://colab.research.google.com/assets/colab-badge.svg\" alt=\"Open In Colab\"/></a>"
      ]
    },
    {
      "cell_type": "code",
      "metadata": {
        "id": "tp84E_hxogbD",
        "outputId": "e29fada4-7dbe-4e03-f619-9d3f625a4fc7",
        "colab": {
          "base_uri": "https://localhost:8080/"
        }
      },
      "source": [
        "print(\"google colab test\")"
      ],
      "execution_count": null,
      "outputs": [
        {
          "output_type": "stream",
          "text": [
            "google colab test\n"
          ],
          "name": "stdout"
        }
      ]
    },
    {
      "cell_type": "markdown",
      "metadata": {
        "id": "qP6gd3hHG4iW"
      },
      "source": [
        "## test headline"
      ]
    },
    {
      "cell_type": "code",
      "metadata": {
        "id": "zixT3jr3ojvW"
      },
      "source": [
        "print(\"test seond commit\")"
      ],
      "execution_count": null,
      "outputs": []
    }
  ]
}